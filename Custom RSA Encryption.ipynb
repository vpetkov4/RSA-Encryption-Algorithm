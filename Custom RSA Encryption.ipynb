{
 "cells": [
  {
   "cell_type": "markdown",
   "metadata": {},
   "source": [
    "# This is a custom class that implements the RSA encryption protocol"
   ]
  },
  {
   "cell_type": "code",
   "execution_count": 14,
   "metadata": {},
   "outputs": [],
   "source": [
    "#We will mostly develop our own methods\n",
    "#However we will use these modules\n",
    "import numpy as np\n",
    "import math\n",
    "import string"
   ]
  },
  {
   "cell_type": "code",
   "execution_count": 15,
   "metadata": {},
   "outputs": [],
   "source": [
    "\"\"\"Create a custom hash functions\n",
    " from strings to lists of integers.\"\"\"\n",
    "\n",
    "import numpy as np\n",
    "import string\n",
    "\n",
    "\n",
    "\"\"\"General Hash class\"\"\"\n",
    "\n",
    "class Hash_class:\n",
    "    hash_table={}\n",
    "    dehash_table={}\n",
    "\n",
    "\"\"\"Elementary hash class:\n",
    "   Each letter is individually hashed consecutively from A:2 to Z:27\n",
    "\"\"\"\n",
    "class Simple_hash(Hash_class):\n",
    "    \n",
    "    \n",
    "    def __init__(self,k=2):\n",
    "        #Create the alphabet+digits\n",
    "        alph=list(string.ascii_uppercase)\n",
    "        digits=[str(i) for i in range(10)]\n",
    "        alph=alph+digits\n",
    "        #Create the hash values\n",
    "        hash_values=list(i for i in range(k,k+36))\n",
    "        #Create the hash dictionary\n",
    "        self.hash_table=dict(zip(alph,hash_values))\n",
    "        self.dehash_table=dict(zip(hash_values,alph))\n",
    "        \n",
    "    \n",
    "    #Hash the plaintext\n",
    "    def hash_it(self,plaintext):\n",
    "        split_plaintext=self.split_it(plaintext)\n",
    "        hashed_plaintext=np.empty(0,dtype=int)\n",
    "        for i in split_plaintext:\n",
    "           hashed_plaintext=np.append(hashed_plaintext,self.hash_table[i])\n",
    "        return hashed_plaintext\n",
    "    \n",
    "    #Clean and transform the plaintext into a list of pairs of letters\n",
    "    def split_it(self,plaintext):\n",
    "        bad_char=[\" \",\",\",\".\",\"'\",\"!\",\"?\",\":\",\";\",\"\\n\",'\"'\n",
    "                  \"*\", \"&\", \"^\", \"%\", \"$\", \"#\", \"@\", \"~\",\"/\"]\n",
    "        \n",
    "        for i in bad_char:\n",
    "            plaintext=plaintext.replace(i,\"\")\n",
    "        plaintext=plaintext.upper()\n",
    "        return plaintext\n",
    "\n",
    "\n",
    "\n",
    "\"\"\"Hash class for hashing pairs 'AA', 'AB',..., 'ZZ' \"\"\"\n",
    "class Biletter_hash(Hash_class):\n",
    "    \n",
    "    \n",
    "    def __init__(self,N=100000):\n",
    "        #Create the bi-alphabet, including combinations with digits\n",
    "        alph=list(string.ascii_uppercase)\n",
    "        digits=[str(i) for i in range(10)]\n",
    "        alph=alph+digits\n",
    "        dialph=list([])\n",
    "        for i in alph:\n",
    "            for j in alph:\n",
    "                x=i+j\n",
    "                dialph.append(x)\n",
    "                \n",
    "        #Create the random hash values\n",
    "        hash_values={}\n",
    "        while len(hash_values)<len(dialph):\n",
    "            r=np.random.randint(N)\n",
    "            if r not in hash_values:\n",
    "                hash_values[r]=True\n",
    "        hash_values=list(hash_values.keys())\n",
    "\n",
    "        #Create the hash dictionary\n",
    "        self.hash_table=dict(zip(dialph,hash_values))\n",
    "        \n",
    "        #Create a trivial dehash table for un-encrypted hashed text\n",
    "        self.dehash_table=dict(zip(hash_values,dialph))\n",
    "        \n",
    "        \n",
    "    #Hash the plaintext\n",
    "    def hash_it(self,plaintext):\n",
    "        split_plaintext=self.split_it(plaintext)\n",
    "        hashed_plaintext=np.empty(0,dtype=int)\n",
    "        for i in split_plaintext:\n",
    "           hashed_plaintext=np.append(hashed_plaintext,self.hash_table[i])\n",
    "        return hashed_plaintext\n",
    "    \n",
    "    \n",
    "    #Clean and transform the plaintext into a list of pairs of letters   \n",
    "    def split_it(self,plaintext):\n",
    "        bad_char=[\" \",\",\",\".\",\"'\",\"!\",\"?\",\":\",\";\",\"\\n\",'\"'\n",
    "                  \"*\", \"&\", \"^\", \"%\", \"$\", \"#\", \"@\", \"~\",\"/\"]\n",
    "        \n",
    "        for i in bad_char:\n",
    "            plaintext=plaintext.replace(i,\"\")\n",
    "        plaintext=plaintext.upper()\n",
    "        if len(plaintext)%2!=0: #Make the length of the text even\n",
    "            plaintext+=\"X\"\n",
    "        i=0\n",
    "        split_plaintext=list([])\n",
    "        for  i in range(0,len(plaintext),2):\n",
    "            x=plaintext[i:i+2]\n",
    "            split_plaintext.append(x)\n",
    "        \n",
    "        return split_plaintext"
   ]
  },
  {
   "cell_type": "code",
   "execution_count": 16,
   "metadata": {},
   "outputs": [
    {
     "name": "stdout",
     "output_type": "stream",
     "text": [
      "CARPEDIEM\n",
      "[ 4  2 19 17  6  5 10  6 14]\n",
      "['CA', 'RP', 'ED', 'IE', 'MX']\n",
      "[31082 25116  7253 88003 70117]\n"
     ]
    }
   ],
   "source": [
    "#Example of hashing a simple message in two ways\n",
    "#Single letter simple hash\n",
    "pl=\"Carpe Diem!\"\n",
    "f=Simple_hash()\n",
    "a=f.split_it(pl)\n",
    "b=f.hash_it(pl)\n",
    "print(a)\n",
    "print(b)\n",
    "\n",
    "#Bi-letter advanced hash\n",
    "pl=\"Carpe Diem!\"\n",
    "f=Biletter_hash()\n",
    "a=f.split_it(pl)\n",
    "b=f.hash_it(pl)\n",
    "print(a)\n",
    "print(b)"
   ]
  },
  {
   "cell_type": "code",
   "execution_count": 17,
   "metadata": {},
   "outputs": [],
   "source": [
    "#Define a few usefull functions\n",
    "\n",
    "#Fast exponentiation modulo an integer using consecutive squaring\n",
    "#compute a**x mod n\n",
    "def pow_mod(a,x,n):\n",
    "    result=1\n",
    "    temp_a, temp_x = a, x#if we do not wish to modify a or x\n",
    "    while temp_x>0:\n",
    "        if temp_x%2!=0:\n",
    "            result=(result*temp_a) % n\n",
    "        temp_a=temp_a**2 % n   \n",
    "        temp_x=temp_x//2\n",
    "    return result\n",
    "\n",
    "#Finding the Greatest Common Divisor\n",
    "def gcd(a=1,b=1):\n",
    "    if a==0:\n",
    "        return b\n",
    "    g=gcd(b%a,a)\n",
    "    return g\n",
    "    \n",
    "    \n",
    "#Extended Euclidean Algorithm: provides both the greatest common divisor and the inverse modulo the other number\n",
    "def generalized_Euclidean(a=1,b=1):    \n",
    "    if a == 0:\n",
    "        return (b, 0, 1)\n",
    "    else:\n",
    "        (gcd, x, y) = generalized_Euclidean(b%a, a)\n",
    "        return (gcd, (y - int(b / a)*x), x)\n",
    "\n"
   ]
  },
  {
   "cell_type": "code",
   "execution_count": 18,
   "metadata": {},
   "outputs": [],
   "source": [
    "#Implementing the RSA protocol as a custom class\n",
    "class RSA():\n",
    "    \"\"\"\n",
    "    Atributes:\n",
    "    Prime numbers p and q\n",
    "    modulus=pq\n",
    "    phi=(p-1)*(q-1)\n",
    "    public_key \n",
    "    private_key\n",
    "    plaintext\n",
    "    cryptext\n",
    "    hash_method\n",
    "    hash_table\n",
    "    dehash_table\n",
    "    \"\"\"\n",
    "    def __init__(self,p=2,q=3,public_key=1,hash_method=Simple_hash(2)):\n",
    "            self.p=p\n",
    "            self.q=q\n",
    "            self.modulus=p*q\n",
    "            self.phi=(p-1)*(q-1)\n",
    "            self.plaintext=str()\n",
    "            self.cryptext=[]\n",
    "            #The public key must be coprime with phi\n",
    "            while gcd(public_key,self.phi)>1:\n",
    "                print(\"The public key is invalid, not invertible modulo n\\n\")\n",
    "                public_key=int(input(\"New public key: \"))\n",
    "            self.public_key=public_key\n",
    "            #Calculating the private key from the generalized Euclidean algorithm\n",
    "            t=generalized_Euclidean(self.public_key,self.phi)\n",
    "            self.private_key=(t[1]+self.phi)%self.phi\n",
    "            self.hash_method=hash_method\n",
    "            self.hash_table=hash_method.hash_table\n",
    "            #Precompute the dehash table\n",
    "            dehash_table={}\n",
    "            for key,value in self.hash_table.items():\n",
    "                temp=self.encrypt_Block(value)\n",
    "                dehash_table[temp]=key\n",
    "            self.dehash_table=dehash_table\n",
    "    \n",
    "    \n",
    "    \"\"\"Function to encrypt a single block of plain text\"\"\"\n",
    "    def encrypt_Block(self,hashed):\n",
    "        return pow_mod(hashed, self.public_key, self.modulus)\n",
    "    \n",
    "    \n",
    "    \"\"\"Function to decrypt a single block\"\"\"\n",
    "    def decrypt_Block(self,hashed):\n",
    "        return pow_mod(hashed, self.private_key, self.modulus)\n",
    "    \n",
    "    \n",
    "    \"\"\"Encrypt a text message\"\"\"\n",
    "    def encrypt_text(self,plaintext):\n",
    "        \n",
    "        \n",
    "        self.plaintext=self.hash_method.hash_it(plaintext)\n",
    "        \n",
    "        self.cryptext=np.empty(0,dtype=int)\n",
    "        for x in self.plaintext:\n",
    "            y=self.encrypt_Block(int(x))\n",
    "            self.cryptext=np.append(self.cryptext,y)\n",
    "    \n",
    "    \n",
    "    #Decrypt a cryptext from a list of hash values\n",
    "    def decrypt_message(self, cryptext):\n",
    "            \n",
    "            self.decrypted=\"\"\n",
    "            \n",
    "            cryptextlist=cryptext.tolist()\n",
    "            \n",
    "            for y in cryptextlist:\n",
    "                self.decrypted+=str(self.dehash_table[y])"
   ]
  },
  {
   "cell_type": "code",
   "execution_count": 19,
   "metadata": {
    "scrolled": true
   },
   "outputs": [
    {
     "name": "stdout",
     "output_type": "stream",
     "text": [
      "[ 840   47   72  335 1003  169  715  508 1198   47   47  840  534  508\n",
      "  169 1111  534 1111  784   47   72  508  715  840  534 1191 1111  715\n",
      "  784  918  335  534 1040  784  784 1111   72  418  918 1279  169  508\n",
      "  534  335   72 1111  715  784 1003  918  840  840  918  715  784  534\n",
      "  169  715 1230 1111  534  239 1111  715   72 1111]\n"
     ]
    }
   ],
   "source": [
    "#Examples of using the RSA protocol with simple hash\n",
    "plaintext=\"Lord, what fools these mortals be!\\n A Midsummer Night's Dream \\n William Shakespeare\"\n",
    "\n",
    "prot=RSA(31,43,11)\n",
    "prot.encrypt_text(plaintext)\n",
    "print(prot.cryptext)\n"
   ]
  },
  {
   "cell_type": "code",
   "execution_count": 20,
   "metadata": {},
   "outputs": [
    {
     "name": "stdout",
     "output_type": "stream",
     "text": [
      "LORDWHATFOOLSTHESEMORTALSBEAMIDSUMMERNIGHTSDREAMWILLIAMSHAKESPEARE\n"
     ]
    }
   ],
   "source": [
    "#Decrypt the previous message\n",
    "prot.decrypt_message(prot.cryptext)\n",
    "print(prot.decrypted)"
   ]
  },
  {
   "cell_type": "code",
   "execution_count": 21,
   "metadata": {},
   "outputs": [
    {
     "name": "stdout",
     "output_type": "stream",
     "text": [
      "[  90119  870912  516555  184952  173395  457629  133076  938548 1025365\n",
      "  845664  879449   98036  171140 1204243   91227  652376  449372 1095552\n",
      "   79319  135772  634424   84257 1099420  189228  208143  576120 1149336\n",
      "  805995 1076687  870904  659772 1204243 1099420]\n"
     ]
    }
   ],
   "source": [
    "#Example of using the RSA protocol with advanced random biletter hash\n",
    "plaintext=\"Lord, what fools these mortals be!\\n A Midsummer Night's Dream \\n William Shakespeare\"\n",
    "\n",
    "prot=RSA(1228,997,public_key=11,hash_method=Biletter_hash())\n",
    "prot.encrypt_text(plaintext)\n",
    "print(prot.cryptext)"
   ]
  },
  {
   "cell_type": "code",
   "execution_count": 22,
   "metadata": {},
   "outputs": [
    {
     "name": "stdout",
     "output_type": "stream",
     "text": [
      "LORDWHATFOOLSTHESEMORTALSBEAMIDSUMMERNIGHTSDREAMWILLIAMSHAKESPEARE\n"
     ]
    }
   ],
   "source": [
    "#Decrypt the previous message\n",
    "prot.decrypt_message(prot.cryptext)\n",
    "print(prot.decrypted)"
   ]
  },
  {
   "cell_type": "code",
   "execution_count": 23,
   "metadata": {},
   "outputs": [
    {
     "name": "stdout",
     "output_type": "stream",
     "text": [
      "[266980283651 208279191477 288581538244  66826432387 149822758302\n",
      " 339427930936  92177107515 314577568067 304841940335 128368115502\n",
      " 147634091105 163929769868 196547365730 173751688222 139190587717\n",
      "  56728758238 277269257395 149722128503 204710645960 285220479845\n",
      " 243065760630 380727351091 271367353496 369661464007  21875722787\n",
      " 134097651372 151959747170 324657169233 339969278683 180589214687\n",
      " 369604960696 173751688222 271367353496]\n"
     ]
    }
   ],
   "source": [
    "#A second example of using the RSA protocol with advanced random biletter hash\n",
    "plaintext=\"Lord, what fools these mortals be!\\n A Midsummer Night's Dream \\n William Shakespeare\"\n",
    "\n",
    "prot=RSA(460589,862067,public_key=11,hash_method=Biletter_hash())\n",
    "prot.encrypt_text(plaintext)\n",
    "print(prot.cryptext)"
   ]
  },
  {
   "cell_type": "code",
   "execution_count": 24,
   "metadata": {},
   "outputs": [
    {
     "name": "stdout",
     "output_type": "stream",
     "text": [
      "LORDWHATFOOLSTHESEMORTALSBEAMIDSUMMERNIGHTSDREAMWILLIAMSHAKESPEARE\n"
     ]
    }
   ],
   "source": [
    "#Decrypt the previous message\n",
    "prot.decrypt_message(prot.cryptext)\n",
    "print(prot.decrypted)"
   ]
  },
  {
   "cell_type": "code",
   "execution_count": 25,
   "metadata": {},
   "outputs": [
    {
     "data": {
      "text/plain": [
       "72192228147"
      ]
     },
     "execution_count": 25,
     "metadata": {},
     "output_type": "execute_result"
    }
   ],
   "source": [
    "#The private key might be very large compared to the public key\n",
    "prot.private_key"
   ]
  },
  {
   "cell_type": "code",
   "execution_count": null,
   "metadata": {},
   "outputs": [],
   "source": []
  },
  {
   "cell_type": "code",
   "execution_count": null,
   "metadata": {},
   "outputs": [],
   "source": []
  }
 ],
 "metadata": {
  "kernelspec": {
   "display_name": "Python 3",
   "language": "python",
   "name": "python3"
  },
  "language_info": {
   "codemirror_mode": {
    "name": "ipython",
    "version": 3
   },
   "file_extension": ".py",
   "mimetype": "text/x-python",
   "name": "python",
   "nbconvert_exporter": "python",
   "pygments_lexer": "ipython3",
   "version": "3.7.6"
  }
 },
 "nbformat": 4,
 "nbformat_minor": 4
}
